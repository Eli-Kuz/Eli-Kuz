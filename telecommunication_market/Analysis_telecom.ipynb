{
 "cells": [
  {
   "cell_type": "markdown",
   "id": "0253ce4a-aa7f-435d-804f-6bba1b7ab759",
   "metadata": {},
   "source": [
    "# Исследование опроса клиентов телекомунникацонной компании"
   ]
  },
  {
   "cell_type": "markdown",
   "id": "0e709462-1680-4aaa-807e-1721bbcd5607",
   "metadata": {},
   "source": [
    "Импортируем библиотеки и подключимся к БД:"
   ]
  },
  {
   "cell_type": "code",
   "execution_count": 1,
   "id": "fc7efa54",
   "metadata": {},
   "outputs": [],
   "source": [
    "import os\n",
    "import pandas as pd\n",
    "import numpy as np\n",
    "\n",
    "from sqlalchemy import create_engine"
   ]
  },
  {
   "cell_type": "code",
   "execution_count": 2,
   "id": "0017f8e7",
   "metadata": {},
   "outputs": [],
   "source": [
    "path_to_db_local = 'telecomm_csi.db'\n",
    "path_to_db_platform = '/_____csi.db'\n",
    "path_to_db = None\n",
    "\n",
    "if os.path.exists(path_to_db_local):\n",
    "    path_to_db = path_to_db_local\n",
    "elif os.path.exists(path_to_db_platform):\n",
    "    path_to_db = path_to_db_platform\n",
    "else:\n",
    "    raise Exception('Файл с базой данных SQLite не найден!')\n",
    "\n",
    "if path_to_db:\n",
    "    engine = create_engine(f'sqlite:///{path_to_db}', echo=False)"
   ]
  },
  {
   "cell_type": "code",
   "execution_count": 3,
   "id": "bfb28a8f",
   "metadata": {},
   "outputs": [],
   "source": [
    "query = \"\"\"\n",
    "SELECT u.user_id AS user_id,\n",
    "        u.lt_day AS lt_day,\n",
    "        (CASE\n",
    "        WHEN u.lt_day < 366 THEN \"new\"\n",
    "        ELSE \"old\"\n",
    "        END) AS is_new,\n",
    "        u.age AS age,\n",
    "        (CASE\n",
    "        WHEN u.gender_segment = 1 THEN \"women\"\n",
    "        ELSE \"men\"\n",
    "        END) AS gender_segment,\n",
    "        u.os_name AS os_name, \n",
    "        u.cpe_type_name AS cpe_type_name,\n",
    "        l.country AS country,\n",
    "        l.city AS city,\n",
    "        age.title AS age_segment,\n",
    "        tr.title AS traffic_segment,\n",
    "        lt.title AS lifetime_segment, \n",
    "        u.nps_score AS nps_score,\n",
    "        (CASE \n",
    "        WHEN u.nps_score BETWEEN 9 AND 10 THEN \"promoters\"\n",
    "        WHEN u.nps_score BETWEEN 7 AND 8 THEN \"passives\"\n",
    "        ELSE \"detractors\"\n",
    "        END) AS nps_group\n",
    "FROM user AS u\n",
    "LEFT JOIN location AS l ON u.location_id=l.location_id\n",
    "LEFT JOIN age_segment AS age ON u.age_gr_id=age.age_gr_id\n",
    "LEFT JOIN traffic_segment AS tr ON u.tr_gr_id=tr.tr_gr_id\n",
    "LEFT JOIN lifetime_segment AS lt ON u.lt_gr_id=lt.lt_gr_id;\n",
    "\"\"\""
   ]
  },
  {
   "cell_type": "markdown",
   "id": "be0c4587-ca39-4027-bec3-f68c67dac99c",
   "metadata": {},
   "source": [
    "Прочитаем файлы"
   ]
  },
  {
   "cell_type": "code",
   "execution_count": 4,
   "id": "3965faf2",
   "metadata": {},
   "outputs": [
    {
     "data": {
      "text/html": [
       "<div>\n",
       "<style scoped>\n",
       "    .dataframe tbody tr th:only-of-type {\n",
       "        vertical-align: middle;\n",
       "    }\n",
       "\n",
       "    .dataframe tbody tr th {\n",
       "        vertical-align: top;\n",
       "    }\n",
       "\n",
       "    .dataframe thead th {\n",
       "        text-align: right;\n",
       "    }\n",
       "</style>\n",
       "<table border=\"1\" class=\"dataframe\">\n",
       "  <thead>\n",
       "    <tr style=\"text-align: right;\">\n",
       "      <th></th>\n",
       "      <th>user_id</th>\n",
       "      <th>lt_day</th>\n",
       "      <th>is_new</th>\n",
       "      <th>age</th>\n",
       "      <th>gender_segment</th>\n",
       "      <th>os_name</th>\n",
       "      <th>cpe_type_name</th>\n",
       "      <th>country</th>\n",
       "      <th>city</th>\n",
       "      <th>age_segment</th>\n",
       "      <th>traffic_segment</th>\n",
       "      <th>lifetime_segment</th>\n",
       "      <th>nps_score</th>\n",
       "      <th>nps_group</th>\n",
       "    </tr>\n",
       "  </thead>\n",
       "  <tbody>\n",
       "    <tr>\n",
       "      <th>0</th>\n",
       "      <td>A001A2</td>\n",
       "      <td>2320</td>\n",
       "      <td>old</td>\n",
       "      <td>45.0</td>\n",
       "      <td>women</td>\n",
       "      <td>ANDROID</td>\n",
       "      <td>SMARTPHONE</td>\n",
       "      <td>Россия</td>\n",
       "      <td>Уфа</td>\n",
       "      <td>05 45-54</td>\n",
       "      <td>04 1-5</td>\n",
       "      <td>08 36+</td>\n",
       "      <td>10</td>\n",
       "      <td>promoters</td>\n",
       "    </tr>\n",
       "    <tr>\n",
       "      <th>1</th>\n",
       "      <td>A001WF</td>\n",
       "      <td>2344</td>\n",
       "      <td>old</td>\n",
       "      <td>53.0</td>\n",
       "      <td>men</td>\n",
       "      <td>ANDROID</td>\n",
       "      <td>SMARTPHONE</td>\n",
       "      <td>Россия</td>\n",
       "      <td>Киров</td>\n",
       "      <td>05 45-54</td>\n",
       "      <td>04 1-5</td>\n",
       "      <td>08 36+</td>\n",
       "      <td>10</td>\n",
       "      <td>promoters</td>\n",
       "    </tr>\n",
       "    <tr>\n",
       "      <th>2</th>\n",
       "      <td>A003Q7</td>\n",
       "      <td>467</td>\n",
       "      <td>old</td>\n",
       "      <td>57.0</td>\n",
       "      <td>men</td>\n",
       "      <td>ANDROID</td>\n",
       "      <td>SMARTPHONE</td>\n",
       "      <td>Россия</td>\n",
       "      <td>Москва</td>\n",
       "      <td>06 55-64</td>\n",
       "      <td>08 20-25</td>\n",
       "      <td>06 13-24</td>\n",
       "      <td>10</td>\n",
       "      <td>promoters</td>\n",
       "    </tr>\n",
       "    <tr>\n",
       "      <th>3</th>\n",
       "      <td>A004TB</td>\n",
       "      <td>4190</td>\n",
       "      <td>old</td>\n",
       "      <td>44.0</td>\n",
       "      <td>women</td>\n",
       "      <td>IOS</td>\n",
       "      <td>SMARTPHONE</td>\n",
       "      <td>Россия</td>\n",
       "      <td>РостовнаДону</td>\n",
       "      <td>04 35-44</td>\n",
       "      <td>03 0.1-1</td>\n",
       "      <td>08 36+</td>\n",
       "      <td>10</td>\n",
       "      <td>promoters</td>\n",
       "    </tr>\n",
       "    <tr>\n",
       "      <th>4</th>\n",
       "      <td>A004XT</td>\n",
       "      <td>1163</td>\n",
       "      <td>old</td>\n",
       "      <td>24.0</td>\n",
       "      <td>men</td>\n",
       "      <td>ANDROID</td>\n",
       "      <td>SMARTPHONE</td>\n",
       "      <td>Россия</td>\n",
       "      <td>Рязань</td>\n",
       "      <td>02 16-24</td>\n",
       "      <td>05 5-10</td>\n",
       "      <td>08 36+</td>\n",
       "      <td>10</td>\n",
       "      <td>promoters</td>\n",
       "    </tr>\n",
       "    <tr>\n",
       "      <th>5</th>\n",
       "      <td>A005O0</td>\n",
       "      <td>5501</td>\n",
       "      <td>old</td>\n",
       "      <td>42.0</td>\n",
       "      <td>women</td>\n",
       "      <td>ANDROID</td>\n",
       "      <td>SMARTPHONE</td>\n",
       "      <td>Россия</td>\n",
       "      <td>Омск</td>\n",
       "      <td>04 35-44</td>\n",
       "      <td>05 5-10</td>\n",
       "      <td>08 36+</td>\n",
       "      <td>6</td>\n",
       "      <td>detractors</td>\n",
       "    </tr>\n",
       "    <tr>\n",
       "      <th>6</th>\n",
       "      <td>A0061R</td>\n",
       "      <td>1236</td>\n",
       "      <td>old</td>\n",
       "      <td>45.0</td>\n",
       "      <td>men</td>\n",
       "      <td>ANDROID</td>\n",
       "      <td>SMARTPHONE</td>\n",
       "      <td>Россия</td>\n",
       "      <td>Уфа</td>\n",
       "      <td>05 45-54</td>\n",
       "      <td>06 10-15</td>\n",
       "      <td>08 36+</td>\n",
       "      <td>10</td>\n",
       "      <td>promoters</td>\n",
       "    </tr>\n",
       "    <tr>\n",
       "      <th>7</th>\n",
       "      <td>A009KS</td>\n",
       "      <td>313</td>\n",
       "      <td>new</td>\n",
       "      <td>35.0</td>\n",
       "      <td>men</td>\n",
       "      <td>ANDROID</td>\n",
       "      <td>SMARTPHONE</td>\n",
       "      <td>Россия</td>\n",
       "      <td>Москва</td>\n",
       "      <td>04 35-44</td>\n",
       "      <td>13 45-50</td>\n",
       "      <td>05 7-12</td>\n",
       "      <td>10</td>\n",
       "      <td>promoters</td>\n",
       "    </tr>\n",
       "    <tr>\n",
       "      <th>8</th>\n",
       "      <td>A00AES</td>\n",
       "      <td>3238</td>\n",
       "      <td>old</td>\n",
       "      <td>36.0</td>\n",
       "      <td>women</td>\n",
       "      <td>ANDROID</td>\n",
       "      <td>SMARTPHONE</td>\n",
       "      <td>Россия</td>\n",
       "      <td>СанктПетербург</td>\n",
       "      <td>04 35-44</td>\n",
       "      <td>04 1-5</td>\n",
       "      <td>08 36+</td>\n",
       "      <td>10</td>\n",
       "      <td>promoters</td>\n",
       "    </tr>\n",
       "    <tr>\n",
       "      <th>9</th>\n",
       "      <td>A00F70</td>\n",
       "      <td>4479</td>\n",
       "      <td>old</td>\n",
       "      <td>54.0</td>\n",
       "      <td>women</td>\n",
       "      <td>ANDROID</td>\n",
       "      <td>SMARTPHONE</td>\n",
       "      <td>Россия</td>\n",
       "      <td>Волгоград</td>\n",
       "      <td>05 45-54</td>\n",
       "      <td>07 15-20</td>\n",
       "      <td>08 36+</td>\n",
       "      <td>9</td>\n",
       "      <td>promoters</td>\n",
       "    </tr>\n",
       "  </tbody>\n",
       "</table>\n",
       "</div>"
      ],
      "text/plain": [
       "  user_id  lt_day is_new   age gender_segment  os_name cpe_type_name country  \\\n",
       "0  A001A2    2320    old  45.0          women  ANDROID    SMARTPHONE  Россия   \n",
       "1  A001WF    2344    old  53.0            men  ANDROID    SMARTPHONE  Россия   \n",
       "2  A003Q7     467    old  57.0            men  ANDROID    SMARTPHONE  Россия   \n",
       "3  A004TB    4190    old  44.0          women      IOS    SMARTPHONE  Россия   \n",
       "4  A004XT    1163    old  24.0            men  ANDROID    SMARTPHONE  Россия   \n",
       "5  A005O0    5501    old  42.0          women  ANDROID    SMARTPHONE  Россия   \n",
       "6  A0061R    1236    old  45.0            men  ANDROID    SMARTPHONE  Россия   \n",
       "7  A009KS     313    new  35.0            men  ANDROID    SMARTPHONE  Россия   \n",
       "8  A00AES    3238    old  36.0          women  ANDROID    SMARTPHONE  Россия   \n",
       "9  A00F70    4479    old  54.0          women  ANDROID    SMARTPHONE  Россия   \n",
       "\n",
       "             city age_segment traffic_segment lifetime_segment  nps_score  \\\n",
       "0             Уфа    05 45-54          04 1-5           08 36+         10   \n",
       "1           Киров    05 45-54          04 1-5           08 36+         10   \n",
       "2          Москва    06 55-64        08 20-25         06 13-24         10   \n",
       "3    РостовнаДону    04 35-44        03 0.1-1           08 36+         10   \n",
       "4          Рязань    02 16-24         05 5-10           08 36+         10   \n",
       "5            Омск    04 35-44         05 5-10           08 36+          6   \n",
       "6             Уфа    05 45-54        06 10-15           08 36+         10   \n",
       "7          Москва    04 35-44        13 45-50          05 7-12         10   \n",
       "8  СанктПетербург    04 35-44          04 1-5           08 36+         10   \n",
       "9       Волгоград    05 45-54        07 15-20           08 36+          9   \n",
       "\n",
       "    nps_group  \n",
       "0   promoters  \n",
       "1   promoters  \n",
       "2   promoters  \n",
       "3   promoters  \n",
       "4   promoters  \n",
       "5  detractors  \n",
       "6   promoters  \n",
       "7   promoters  \n",
       "8   promoters  \n",
       "9   promoters  "
      ]
     },
     "execution_count": 4,
     "metadata": {},
     "output_type": "execute_result"
    }
   ],
   "source": [
    "df = pd.read_sql(query, engine)\n",
    "df.head(10)"
   ]
  },
  {
   "cell_type": "markdown",
   "id": "6bcf6a6c",
   "metadata": {},
   "source": [
    "Посмотрим явные дубликаты:"
   ]
  },
  {
   "cell_type": "code",
   "execution_count": 5,
   "id": "a83b5a35",
   "metadata": {},
   "outputs": [
    {
     "data": {
      "text/plain": [
       "0"
      ]
     },
     "execution_count": 5,
     "metadata": {},
     "output_type": "execute_result"
    }
   ],
   "source": [
    "df.duplicated().sum()"
   ]
  },
  {
   "cell_type": "markdown",
   "id": "2c46af85",
   "metadata": {},
   "source": [
    "Явных дубликатов не обнаружено. \n",
    "\n",
    "Видим, что данные в столбце 'age' представлены в float, а должно быть в int. Я пробовала, кстати, исправить тип уже в самом Tableau еще в первой итерации, но у меня появились Null, поэтому не стала трогать. \n",
    "\n",
    "Посмотрим, какие значения есть в столбце `age`:"
   ]
  },
  {
   "cell_type": "code",
   "execution_count": 6,
   "id": "d226f39a",
   "metadata": {},
   "outputs": [
    {
     "data": {
      "text/plain": [
       "array([45., 53., 57., 44., 24., 42., 35., 36., 54., 39., 21., 27., 60.,\n",
       "       34., 47., 37., 43., 33., 31., 25., 51., 28., 41., 40., 46., 48.,\n",
       "       32., 30., 52., 59., 26., 50., 62., 29., 55., 22., 38., 56., 23.,\n",
       "       49., 66., 74., 75., 17., 65., 64., 69., 58., 20., 19., 80., 70.,\n",
       "       81., 63., 67., 68., 72., 15., 79., 18., 73., nan, 14., 71., 61.,\n",
       "       16., 77., 13., 76., 10., 78., 12., 82., 11., 83., 89., 84., 85.,\n",
       "       87., 86.])"
      ]
     },
     "execution_count": 6,
     "metadata": {},
     "output_type": "execute_result"
    }
   ],
   "source": [
    "df['age'].unique()"
   ]
  },
  {
   "cell_type": "code",
   "execution_count": 7,
   "id": "6093acab",
   "metadata": {},
   "outputs": [
    {
     "data": {
      "text/plain": [
       "count    501939.000000\n",
       "mean         39.621946\n",
       "std          11.188249\n",
       "min          10.000000\n",
       "25%          31.000000\n",
       "50%          38.000000\n",
       "75%          47.000000\n",
       "max          89.000000\n",
       "Name: age, dtype: float64"
      ]
     },
     "execution_count": 7,
     "metadata": {},
     "output_type": "execute_result"
    }
   ],
   "source": [
    "df['age'].describe()"
   ]
  },
  {
   "cell_type": "markdown",
   "id": "092e385f",
   "metadata": {},
   "source": [
    "Видим, что есть NaN, а также самый минимальный возраст - 10 лет и максимаальный - 89. Возможно, 10-летний пользователь является \"выбросом\", так как обычно в опросах обычно участвуют подростки от 14 лет либо взрослые. \n",
    "\n",
    "Посмотрим столбец `nps_score` на предмет выбросов:"
   ]
  },
  {
   "cell_type": "code",
   "execution_count": 8,
   "id": "fa011616",
   "metadata": {},
   "outputs": [
    {
     "data": {
      "text/plain": [
       "count    502493.000000\n",
       "mean          7.508562\n",
       "std           3.020378\n",
       "min           1.000000\n",
       "25%           5.000000\n",
       "50%           9.000000\n",
       "75%          10.000000\n",
       "max          10.000000\n",
       "Name: nps_score, dtype: float64"
      ]
     },
     "execution_count": 8,
     "metadata": {},
     "output_type": "execute_result"
    }
   ],
   "source": [
    "df['nps_score'].describe()"
   ]
  },
  {
   "cell_type": "markdown",
   "id": "c877d284",
   "metadata": {},
   "source": [
    "Видим, что с данными все хорошо, минимальное значение 1 и максимальное - 10, как и должно быть.\n",
    "\n",
    "Посмотрим столбец `lt_day`:"
   ]
  },
  {
   "cell_type": "code",
   "execution_count": 9,
   "id": "a5f0d81e",
   "metadata": {},
   "outputs": [
    {
     "data": {
      "text/plain": [
       "count    502493.000000\n",
       "mean       1868.841439\n",
       "std        1683.701762\n",
       "min         -21.000000\n",
       "25%         533.000000\n",
       "50%        1239.000000\n",
       "75%        3064.000000\n",
       "max        9162.000000\n",
       "Name: lt_day, dtype: float64"
      ]
     },
     "execution_count": 9,
     "metadata": {},
     "output_type": "execute_result"
    }
   ],
   "source": [
    "df['lt_day'].describe()"
   ]
  },
  {
   "cell_type": "markdown",
   "id": "19a5b906",
   "metadata": {},
   "source": [
    "Здесь видим непривычное значение - \"-21\", что несвойственно для количества месяцев жизни клиента, число которых должно быть положительным. "
   ]
  },
  {
   "cell_type": "markdown",
   "id": "86a566e1-730e-4c9a-9e63-5357d3f44273",
   "metadata": {},
   "source": [
    "Сохраним файл для дальнейшей работы в Tableau"
   ]
  },
  {
   "cell_type": "code",
   "execution_count": 10,
   "id": "9db04858",
   "metadata": {},
   "outputs": [],
   "source": [
    "df.to_csv('project_2_sql_tableau.csv', index=False)"
   ]
  },
  {
   "cell_type": "code",
   "execution_count": null,
   "id": "eef014ac",
   "metadata": {},
   "outputs": [],
   "source": []
  }
 ],
 "metadata": {
  "ExecuteTimeLog": [
   {
    "duration": 560,
    "start_time": "2024-06-18T16:46:47.046Z"
   },
   {
    "duration": 75,
    "start_time": "2024-06-18T16:46:47.608Z"
   },
   {
    "duration": 3,
    "start_time": "2024-06-18T16:46:47.686Z"
   },
   {
    "duration": 5768,
    "start_time": "2024-06-18T16:46:47.691Z"
   },
   {
    "duration": 4355,
    "start_time": "2024-06-18T16:46:53.460Z"
   },
   {
    "duration": 3,
    "start_time": "2024-06-18T16:48:23.392Z"
   },
   {
    "duration": 556,
    "start_time": "2024-06-18T16:48:34.433Z"
   },
   {
    "duration": 70,
    "start_time": "2024-06-18T16:48:34.991Z"
   },
   {
    "duration": 3,
    "start_time": "2024-06-18T16:48:35.063Z"
   },
   {
    "duration": 5412,
    "start_time": "2024-06-18T16:48:35.067Z"
   },
   {
    "duration": 4771,
    "start_time": "2024-06-18T16:48:40.481Z"
   },
   {
    "duration": 507,
    "start_time": "2024-06-18T16:49:45.312Z"
   },
   {
    "duration": 56,
    "start_time": "2024-06-18T16:49:45.821Z"
   },
   {
    "duration": 3,
    "start_time": "2024-06-18T16:49:45.878Z"
   },
   {
    "duration": 5380,
    "start_time": "2024-06-18T16:49:45.883Z"
   },
   {
    "duration": 4398,
    "start_time": "2024-06-18T16:49:51.265Z"
   },
   {
    "duration": 535,
    "start_time": "2024-06-18T16:50:17.480Z"
   },
   {
    "duration": 57,
    "start_time": "2024-06-18T16:50:18.017Z"
   },
   {
    "duration": 3,
    "start_time": "2024-06-18T16:50:18.076Z"
   },
   {
    "duration": 5425,
    "start_time": "2024-06-18T16:50:18.080Z"
   },
   {
    "duration": 4407,
    "start_time": "2024-06-18T16:50:23.507Z"
   },
   {
    "duration": 538,
    "start_time": "2024-06-19T08:03:57.473Z"
   },
   {
    "duration": 66,
    "start_time": "2024-06-19T08:03:58.013Z"
   },
   {
    "duration": 4,
    "start_time": "2024-06-19T08:03:58.081Z"
   },
   {
    "duration": 5,
    "start_time": "2024-06-19T08:03:58.086Z"
   },
   {
    "duration": 5403,
    "start_time": "2024-06-19T08:03:58.093Z"
   },
   {
    "duration": 1385,
    "start_time": "2024-06-19T08:04:03.497Z"
   },
   {
    "duration": 4633,
    "start_time": "2024-06-19T08:04:04.883Z"
   },
   {
    "duration": 5051,
    "start_time": "2024-06-19T08:04:09.719Z"
   },
   {
    "duration": 73,
    "start_time": "2024-06-19T08:08:54.955Z"
   },
   {
    "duration": 571,
    "start_time": "2024-06-19T08:10:33.152Z"
   },
   {
    "duration": 60,
    "start_time": "2024-06-19T08:10:33.725Z"
   },
   {
    "duration": 4,
    "start_time": "2024-06-19T08:10:33.787Z"
   },
   {
    "duration": 4,
    "start_time": "2024-06-19T08:10:33.793Z"
   },
   {
    "duration": 4888,
    "start_time": "2024-06-19T08:10:33.799Z"
   },
   {
    "duration": 1500,
    "start_time": "2024-06-19T08:10:38.688Z"
   },
   {
    "duration": 4463,
    "start_time": "2024-06-19T08:10:40.190Z"
   },
   {
    "duration": 8,
    "start_time": "2024-06-19T08:12:59.174Z"
   },
   {
    "duration": 33,
    "start_time": "2024-06-19T08:14:41.619Z"
   },
   {
    "duration": 19,
    "start_time": "2024-06-19T08:17:27.585Z"
   },
   {
    "duration": 19,
    "start_time": "2024-06-19T08:19:44.236Z"
   },
   {
    "duration": 539,
    "start_time": "2024-06-19T08:23:31.368Z"
   },
   {
    "duration": 57,
    "start_time": "2024-06-19T08:23:31.909Z"
   },
   {
    "duration": 3,
    "start_time": "2024-06-19T08:23:31.968Z"
   },
   {
    "duration": 34,
    "start_time": "2024-06-19T08:23:31.973Z"
   },
   {
    "duration": 4874,
    "start_time": "2024-06-19T08:23:32.008Z"
   },
   {
    "duration": 1345,
    "start_time": "2024-06-19T08:23:36.884Z"
   },
   {
    "duration": 8,
    "start_time": "2024-06-19T08:23:38.230Z"
   },
   {
    "duration": 43,
    "start_time": "2024-06-19T08:23:38.239Z"
   },
   {
    "duration": 18,
    "start_time": "2024-06-19T08:23:38.284Z"
   },
   {
    "duration": 25,
    "start_time": "2024-06-19T08:23:38.304Z"
   },
   {
    "duration": 4509,
    "start_time": "2024-06-19T08:23:38.331Z"
   },
   {
    "duration": 553,
    "start_time": "2024-06-19T08:24:13.630Z"
   },
   {
    "duration": 57,
    "start_time": "2024-06-19T08:24:14.185Z"
   },
   {
    "duration": 3,
    "start_time": "2024-06-19T08:24:14.243Z"
   },
   {
    "duration": 6,
    "start_time": "2024-06-19T08:24:14.247Z"
   },
   {
    "duration": 5179,
    "start_time": "2024-06-19T08:24:14.255Z"
   },
   {
    "duration": 1425,
    "start_time": "2024-06-19T08:24:19.436Z"
   },
   {
    "duration": 8,
    "start_time": "2024-06-19T08:24:20.865Z"
   },
   {
    "duration": 29,
    "start_time": "2024-06-19T08:24:20.875Z"
   },
   {
    "duration": 17,
    "start_time": "2024-06-19T08:24:20.906Z"
   },
   {
    "duration": 50,
    "start_time": "2024-06-19T08:24:20.924Z"
   },
   {
    "duration": 4478,
    "start_time": "2024-06-19T08:24:20.976Z"
   },
   {
    "duration": 4,
    "start_time": "2024-06-19T08:24:25.456Z"
   },
   {
    "duration": 508,
    "start_time": "2024-06-19T08:25:13.151Z"
   },
   {
    "duration": 62,
    "start_time": "2024-06-19T08:25:13.660Z"
   },
   {
    "duration": 3,
    "start_time": "2024-06-19T08:25:13.723Z"
   },
   {
    "duration": 6,
    "start_time": "2024-06-19T08:25:13.728Z"
   },
   {
    "duration": 4999,
    "start_time": "2024-06-19T08:25:13.736Z"
   },
   {
    "duration": 1428,
    "start_time": "2024-06-19T08:25:18.737Z"
   },
   {
    "duration": 9,
    "start_time": "2024-06-19T08:25:20.166Z"
   },
   {
    "duration": 28,
    "start_time": "2024-06-19T08:25:20.177Z"
   },
   {
    "duration": 15,
    "start_time": "2024-06-19T08:25:20.207Z"
   },
   {
    "duration": 44,
    "start_time": "2024-06-19T08:25:20.224Z"
   },
   {
    "duration": 4286,
    "start_time": "2024-06-19T08:25:20.270Z"
   },
   {
    "duration": 3,
    "start_time": "2024-06-19T08:25:24.557Z"
   },
   {
    "duration": 475,
    "start_time": "2024-06-19T08:32:25.628Z"
   },
   {
    "duration": 64,
    "start_time": "2024-06-19T08:32:26.105Z"
   },
   {
    "duration": 3,
    "start_time": "2024-06-19T08:32:26.170Z"
   },
   {
    "duration": 11,
    "start_time": "2024-06-19T08:32:26.174Z"
   },
   {
    "duration": 5052,
    "start_time": "2024-06-19T08:32:26.187Z"
   },
   {
    "duration": 1399,
    "start_time": "2024-06-19T08:32:31.240Z"
   },
   {
    "duration": 8,
    "start_time": "2024-06-19T08:32:32.640Z"
   },
   {
    "duration": 44,
    "start_time": "2024-06-19T08:32:32.649Z"
   },
   {
    "duration": 16,
    "start_time": "2024-06-19T08:32:32.694Z"
   },
   {
    "duration": 17,
    "start_time": "2024-06-19T08:32:32.711Z"
   },
   {
    "duration": 4910,
    "start_time": "2024-06-19T08:32:32.730Z"
   },
   {
    "duration": 3,
    "start_time": "2024-06-19T08:32:37.641Z"
   }
  ],
  "kernelspec": {
   "display_name": "Python 3 (ipykernel)",
   "language": "python",
   "name": "python3"
  },
  "language_info": {
   "codemirror_mode": {
    "name": "ipython",
    "version": 3
   },
   "file_extension": ".py",
   "mimetype": "text/x-python",
   "name": "python",
   "nbconvert_exporter": "python",
   "pygments_lexer": "ipython3",
   "version": "3.11.5"
  },
  "toc": {
   "base_numbering": 1,
   "nav_menu": {},
   "number_sections": true,
   "sideBar": true,
   "skip_h1_title": true,
   "title_cell": "Table of Contents",
   "title_sidebar": "Contents",
   "toc_cell": false,
   "toc_position": {},
   "toc_section_display": true,
   "toc_window_display": false
  }
 },
 "nbformat": 4,
 "nbformat_minor": 5
}
