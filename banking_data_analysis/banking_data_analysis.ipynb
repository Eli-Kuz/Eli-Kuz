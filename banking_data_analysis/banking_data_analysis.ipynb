{
 "cells": [
  {
   "cell_type": "markdown",
   "id": "eacada6c-334a-4eac-96de-905795326715",
   "metadata": {},
   "source": [
    "# Исследование надежности заемщиков"
   ]
  },
  {
   "cell_type": "markdown",
   "id": "f2df4c44-316c-44f9-93a0-51af3f773826",
   "metadata": {},
   "source": [
    "## 1. Изучаю датасет и общую информацию о данных"
   ]
  },
  {
   "cell_type": "code",
   "execution_count": 1,
   "id": "a287cabf-4450-415d-9f2c-80f79f35018e",
   "metadata": {},
   "outputs": [],
   "source": [
    "import pandas as pd\n",
    "\n",
    "try:\n",
    "    data = pd.read_csv('/___/data.csv')\n",
    "except:\n",
    "    data = pd.read_csv('https://______/datasets/data.csv')"
   ]
  },
  {
   "cell_type": "code",
   "execution_count": 2,
   "id": "563fa317-ad3a-4272-b112-a063f1f0aa51",
   "metadata": {},
   "outputs": [
    {
     "data": {
      "text/html": [
       "<div>\n",
       "<style scoped>\n",
       "    .dataframe tbody tr th:only-of-type {\n",
       "        vertical-align: middle;\n",
       "    }\n",
       "\n",
       "    .dataframe tbody tr th {\n",
       "        vertical-align: top;\n",
       "    }\n",
       "\n",
       "    .dataframe thead th {\n",
       "        text-align: right;\n",
       "    }\n",
       "</style>\n",
       "<table border=\"1\" class=\"dataframe\">\n",
       "  <thead>\n",
       "    <tr style=\"text-align: right;\">\n",
       "      <th></th>\n",
       "      <th>children</th>\n",
       "      <th>days_employed</th>\n",
       "      <th>dob_years</th>\n",
       "      <th>education</th>\n",
       "      <th>education_id</th>\n",
       "      <th>family_status</th>\n",
       "      <th>family_status_id</th>\n",
       "      <th>gender</th>\n",
       "      <th>income_type</th>\n",
       "      <th>debt</th>\n",
       "      <th>total_income</th>\n",
       "      <th>purpose</th>\n",
       "    </tr>\n",
       "  </thead>\n",
       "  <tbody>\n",
       "    <tr>\n",
       "      <th>0</th>\n",
       "      <td>1</td>\n",
       "      <td>-8437.673028</td>\n",
       "      <td>42</td>\n",
       "      <td>высшее</td>\n",
       "      <td>0</td>\n",
       "      <td>женат / замужем</td>\n",
       "      <td>0</td>\n",
       "      <td>F</td>\n",
       "      <td>сотрудник</td>\n",
       "      <td>0</td>\n",
       "      <td>253875.639453</td>\n",
       "      <td>покупка жилья</td>\n",
       "    </tr>\n",
       "    <tr>\n",
       "      <th>1</th>\n",
       "      <td>1</td>\n",
       "      <td>-4024.803754</td>\n",
       "      <td>36</td>\n",
       "      <td>среднее</td>\n",
       "      <td>1</td>\n",
       "      <td>женат / замужем</td>\n",
       "      <td>0</td>\n",
       "      <td>F</td>\n",
       "      <td>сотрудник</td>\n",
       "      <td>0</td>\n",
       "      <td>112080.014102</td>\n",
       "      <td>приобретение автомобиля</td>\n",
       "    </tr>\n",
       "    <tr>\n",
       "      <th>2</th>\n",
       "      <td>0</td>\n",
       "      <td>-5623.422610</td>\n",
       "      <td>33</td>\n",
       "      <td>Среднее</td>\n",
       "      <td>1</td>\n",
       "      <td>женат / замужем</td>\n",
       "      <td>0</td>\n",
       "      <td>M</td>\n",
       "      <td>сотрудник</td>\n",
       "      <td>0</td>\n",
       "      <td>145885.952297</td>\n",
       "      <td>покупка жилья</td>\n",
       "    </tr>\n",
       "    <tr>\n",
       "      <th>3</th>\n",
       "      <td>3</td>\n",
       "      <td>-4124.747207</td>\n",
       "      <td>32</td>\n",
       "      <td>среднее</td>\n",
       "      <td>1</td>\n",
       "      <td>женат / замужем</td>\n",
       "      <td>0</td>\n",
       "      <td>M</td>\n",
       "      <td>сотрудник</td>\n",
       "      <td>0</td>\n",
       "      <td>267628.550329</td>\n",
       "      <td>дополнительное образование</td>\n",
       "    </tr>\n",
       "    <tr>\n",
       "      <th>4</th>\n",
       "      <td>0</td>\n",
       "      <td>340266.072047</td>\n",
       "      <td>53</td>\n",
       "      <td>среднее</td>\n",
       "      <td>1</td>\n",
       "      <td>гражданский брак</td>\n",
       "      <td>1</td>\n",
       "      <td>F</td>\n",
       "      <td>пенсионер</td>\n",
       "      <td>0</td>\n",
       "      <td>158616.077870</td>\n",
       "      <td>сыграть свадьбу</td>\n",
       "    </tr>\n",
       "    <tr>\n",
       "      <th>5</th>\n",
       "      <td>0</td>\n",
       "      <td>-926.185831</td>\n",
       "      <td>27</td>\n",
       "      <td>высшее</td>\n",
       "      <td>0</td>\n",
       "      <td>гражданский брак</td>\n",
       "      <td>1</td>\n",
       "      <td>M</td>\n",
       "      <td>компаньон</td>\n",
       "      <td>0</td>\n",
       "      <td>255763.565419</td>\n",
       "      <td>покупка жилья</td>\n",
       "    </tr>\n",
       "    <tr>\n",
       "      <th>6</th>\n",
       "      <td>0</td>\n",
       "      <td>-2879.202052</td>\n",
       "      <td>43</td>\n",
       "      <td>высшее</td>\n",
       "      <td>0</td>\n",
       "      <td>женат / замужем</td>\n",
       "      <td>0</td>\n",
       "      <td>F</td>\n",
       "      <td>компаньон</td>\n",
       "      <td>0</td>\n",
       "      <td>240525.971920</td>\n",
       "      <td>операции с жильем</td>\n",
       "    </tr>\n",
       "    <tr>\n",
       "      <th>7</th>\n",
       "      <td>0</td>\n",
       "      <td>-152.779569</td>\n",
       "      <td>50</td>\n",
       "      <td>СРЕДНЕЕ</td>\n",
       "      <td>1</td>\n",
       "      <td>женат / замужем</td>\n",
       "      <td>0</td>\n",
       "      <td>M</td>\n",
       "      <td>сотрудник</td>\n",
       "      <td>0</td>\n",
       "      <td>135823.934197</td>\n",
       "      <td>образование</td>\n",
       "    </tr>\n",
       "    <tr>\n",
       "      <th>8</th>\n",
       "      <td>2</td>\n",
       "      <td>-6929.865299</td>\n",
       "      <td>35</td>\n",
       "      <td>ВЫСШЕЕ</td>\n",
       "      <td>0</td>\n",
       "      <td>гражданский брак</td>\n",
       "      <td>1</td>\n",
       "      <td>F</td>\n",
       "      <td>сотрудник</td>\n",
       "      <td>0</td>\n",
       "      <td>95856.832424</td>\n",
       "      <td>на проведение свадьбы</td>\n",
       "    </tr>\n",
       "    <tr>\n",
       "      <th>9</th>\n",
       "      <td>0</td>\n",
       "      <td>-2188.756445</td>\n",
       "      <td>41</td>\n",
       "      <td>среднее</td>\n",
       "      <td>1</td>\n",
       "      <td>женат / замужем</td>\n",
       "      <td>0</td>\n",
       "      <td>M</td>\n",
       "      <td>сотрудник</td>\n",
       "      <td>0</td>\n",
       "      <td>144425.938277</td>\n",
       "      <td>покупка жилья для семьи</td>\n",
       "    </tr>\n",
       "    <tr>\n",
       "      <th>10</th>\n",
       "      <td>2</td>\n",
       "      <td>-4171.483647</td>\n",
       "      <td>36</td>\n",
       "      <td>высшее</td>\n",
       "      <td>0</td>\n",
       "      <td>женат / замужем</td>\n",
       "      <td>0</td>\n",
       "      <td>M</td>\n",
       "      <td>компаньон</td>\n",
       "      <td>0</td>\n",
       "      <td>113943.491460</td>\n",
       "      <td>покупка недвижимости</td>\n",
       "    </tr>\n",
       "    <tr>\n",
       "      <th>11</th>\n",
       "      <td>0</td>\n",
       "      <td>-792.701887</td>\n",
       "      <td>40</td>\n",
       "      <td>среднее</td>\n",
       "      <td>1</td>\n",
       "      <td>женат / замужем</td>\n",
       "      <td>0</td>\n",
       "      <td>F</td>\n",
       "      <td>сотрудник</td>\n",
       "      <td>0</td>\n",
       "      <td>77069.234271</td>\n",
       "      <td>покупка коммерческой недвижимости</td>\n",
       "    </tr>\n",
       "    <tr>\n",
       "      <th>12</th>\n",
       "      <td>0</td>\n",
       "      <td>NaN</td>\n",
       "      <td>65</td>\n",
       "      <td>среднее</td>\n",
       "      <td>1</td>\n",
       "      <td>гражданский брак</td>\n",
       "      <td>1</td>\n",
       "      <td>M</td>\n",
       "      <td>пенсионер</td>\n",
       "      <td>0</td>\n",
       "      <td>NaN</td>\n",
       "      <td>сыграть свадьбу</td>\n",
       "    </tr>\n",
       "    <tr>\n",
       "      <th>13</th>\n",
       "      <td>0</td>\n",
       "      <td>-1846.641941</td>\n",
       "      <td>54</td>\n",
       "      <td>неоконченное высшее</td>\n",
       "      <td>2</td>\n",
       "      <td>женат / замужем</td>\n",
       "      <td>0</td>\n",
       "      <td>F</td>\n",
       "      <td>сотрудник</td>\n",
       "      <td>0</td>\n",
       "      <td>130458.228857</td>\n",
       "      <td>приобретение автомобиля</td>\n",
       "    </tr>\n",
       "    <tr>\n",
       "      <th>14</th>\n",
       "      <td>0</td>\n",
       "      <td>-1844.956182</td>\n",
       "      <td>56</td>\n",
       "      <td>высшее</td>\n",
       "      <td>0</td>\n",
       "      <td>гражданский брак</td>\n",
       "      <td>1</td>\n",
       "      <td>F</td>\n",
       "      <td>компаньон</td>\n",
       "      <td>1</td>\n",
       "      <td>165127.911772</td>\n",
       "      <td>покупка жилой недвижимости</td>\n",
       "    </tr>\n",
       "    <tr>\n",
       "      <th>15</th>\n",
       "      <td>1</td>\n",
       "      <td>-972.364419</td>\n",
       "      <td>26</td>\n",
       "      <td>среднее</td>\n",
       "      <td>1</td>\n",
       "      <td>женат / замужем</td>\n",
       "      <td>0</td>\n",
       "      <td>F</td>\n",
       "      <td>сотрудник</td>\n",
       "      <td>0</td>\n",
       "      <td>116820.904450</td>\n",
       "      <td>строительство собственной недвижимости</td>\n",
       "    </tr>\n",
       "    <tr>\n",
       "      <th>16</th>\n",
       "      <td>0</td>\n",
       "      <td>-1719.934226</td>\n",
       "      <td>35</td>\n",
       "      <td>среднее</td>\n",
       "      <td>1</td>\n",
       "      <td>женат / замужем</td>\n",
       "      <td>0</td>\n",
       "      <td>F</td>\n",
       "      <td>сотрудник</td>\n",
       "      <td>0</td>\n",
       "      <td>289202.704229</td>\n",
       "      <td>недвижимость</td>\n",
       "    </tr>\n",
       "    <tr>\n",
       "      <th>17</th>\n",
       "      <td>0</td>\n",
       "      <td>-2369.999720</td>\n",
       "      <td>33</td>\n",
       "      <td>высшее</td>\n",
       "      <td>0</td>\n",
       "      <td>гражданский брак</td>\n",
       "      <td>1</td>\n",
       "      <td>M</td>\n",
       "      <td>сотрудник</td>\n",
       "      <td>0</td>\n",
       "      <td>90410.586745</td>\n",
       "      <td>строительство недвижимости</td>\n",
       "    </tr>\n",
       "    <tr>\n",
       "      <th>18</th>\n",
       "      <td>0</td>\n",
       "      <td>400281.136913</td>\n",
       "      <td>53</td>\n",
       "      <td>среднее</td>\n",
       "      <td>1</td>\n",
       "      <td>вдовец / вдова</td>\n",
       "      <td>2</td>\n",
       "      <td>F</td>\n",
       "      <td>пенсионер</td>\n",
       "      <td>0</td>\n",
       "      <td>56823.777243</td>\n",
       "      <td>на покупку подержанного автомобиля</td>\n",
       "    </tr>\n",
       "    <tr>\n",
       "      <th>19</th>\n",
       "      <td>0</td>\n",
       "      <td>-10038.818549</td>\n",
       "      <td>48</td>\n",
       "      <td>СРЕДНЕЕ</td>\n",
       "      <td>1</td>\n",
       "      <td>в разводе</td>\n",
       "      <td>3</td>\n",
       "      <td>F</td>\n",
       "      <td>сотрудник</td>\n",
       "      <td>0</td>\n",
       "      <td>242831.107982</td>\n",
       "      <td>на покупку своего автомобиля</td>\n",
       "    </tr>\n",
       "  </tbody>\n",
       "</table>\n",
       "</div>"
      ],
      "text/plain": [
       "    children  days_employed  dob_years            education  education_id  \\\n",
       "0          1   -8437.673028         42               высшее             0   \n",
       "1          1   -4024.803754         36              среднее             1   \n",
       "2          0   -5623.422610         33              Среднее             1   \n",
       "3          3   -4124.747207         32              среднее             1   \n",
       "4          0  340266.072047         53              среднее             1   \n",
       "5          0    -926.185831         27               высшее             0   \n",
       "6          0   -2879.202052         43               высшее             0   \n",
       "7          0    -152.779569         50              СРЕДНЕЕ             1   \n",
       "8          2   -6929.865299         35               ВЫСШЕЕ             0   \n",
       "9          0   -2188.756445         41              среднее             1   \n",
       "10         2   -4171.483647         36               высшее             0   \n",
       "11         0    -792.701887         40              среднее             1   \n",
       "12         0            NaN         65              среднее             1   \n",
       "13         0   -1846.641941         54  неоконченное высшее             2   \n",
       "14         0   -1844.956182         56               высшее             0   \n",
       "15         1    -972.364419         26              среднее             1   \n",
       "16         0   -1719.934226         35              среднее             1   \n",
       "17         0   -2369.999720         33               высшее             0   \n",
       "18         0  400281.136913         53              среднее             1   \n",
       "19         0  -10038.818549         48              СРЕДНЕЕ             1   \n",
       "\n",
       "       family_status  family_status_id gender income_type  debt  \\\n",
       "0    женат / замужем                 0      F   сотрудник     0   \n",
       "1    женат / замужем                 0      F   сотрудник     0   \n",
       "2    женат / замужем                 0      M   сотрудник     0   \n",
       "3    женат / замужем                 0      M   сотрудник     0   \n",
       "4   гражданский брак                 1      F   пенсионер     0   \n",
       "5   гражданский брак                 1      M   компаньон     0   \n",
       "6    женат / замужем                 0      F   компаньон     0   \n",
       "7    женат / замужем                 0      M   сотрудник     0   \n",
       "8   гражданский брак                 1      F   сотрудник     0   \n",
       "9    женат / замужем                 0      M   сотрудник     0   \n",
       "10   женат / замужем                 0      M   компаньон     0   \n",
       "11   женат / замужем                 0      F   сотрудник     0   \n",
       "12  гражданский брак                 1      M   пенсионер     0   \n",
       "13   женат / замужем                 0      F   сотрудник     0   \n",
       "14  гражданский брак                 1      F   компаньон     1   \n",
       "15   женат / замужем                 0      F   сотрудник     0   \n",
       "16   женат / замужем                 0      F   сотрудник     0   \n",
       "17  гражданский брак                 1      M   сотрудник     0   \n",
       "18    вдовец / вдова                 2      F   пенсионер     0   \n",
       "19         в разводе                 3      F   сотрудник     0   \n",
       "\n",
       "     total_income                                 purpose  \n",
       "0   253875.639453                           покупка жилья  \n",
       "1   112080.014102                 приобретение автомобиля  \n",
       "2   145885.952297                           покупка жилья  \n",
       "3   267628.550329              дополнительное образование  \n",
       "4   158616.077870                         сыграть свадьбу  \n",
       "5   255763.565419                           покупка жилья  \n",
       "6   240525.971920                       операции с жильем  \n",
       "7   135823.934197                             образование  \n",
       "8    95856.832424                   на проведение свадьбы  \n",
       "9   144425.938277                 покупка жилья для семьи  \n",
       "10  113943.491460                    покупка недвижимости  \n",
       "11   77069.234271       покупка коммерческой недвижимости  \n",
       "12            NaN                         сыграть свадьбу  \n",
       "13  130458.228857                 приобретение автомобиля  \n",
       "14  165127.911772              покупка жилой недвижимости  \n",
       "15  116820.904450  строительство собственной недвижимости  \n",
       "16  289202.704229                            недвижимость  \n",
       "17   90410.586745              строительство недвижимости  \n",
       "18   56823.777243      на покупку подержанного автомобиля  \n",
       "19  242831.107982            на покупку своего автомобиля  "
      ]
     },
     "execution_count": 2,
     "metadata": {},
     "output_type": "execute_result"
    }
   ],
   "source": [
    "data.head(20)"
   ]
  },
  {
   "cell_type": "code",
   "execution_count": 3,
   "id": "8d81d8b1-9cd2-4d9c-8c52-4c295f010e70",
   "metadata": {},
   "outputs": [
    {
     "name": "stdout",
     "output_type": "stream",
     "text": [
      "<class 'pandas.core.frame.DataFrame'>\n",
      "RangeIndex: 21525 entries, 0 to 21524\n",
      "Data columns (total 12 columns):\n",
      " #   Column            Non-Null Count  Dtype  \n",
      "---  ------            --------------  -----  \n",
      " 0   children          21525 non-null  int64  \n",
      " 1   days_employed     19351 non-null  float64\n",
      " 2   dob_years         21525 non-null  int64  \n",
      " 3   education         21525 non-null  object \n",
      " 4   education_id      21525 non-null  int64  \n",
      " 5   family_status     21525 non-null  object \n",
      " 6   family_status_id  21525 non-null  int64  \n",
      " 7   gender            21525 non-null  object \n",
      " 8   income_type       21525 non-null  object \n",
      " 9   debt              21525 non-null  int64  \n",
      " 10  total_income      19351 non-null  float64\n",
      " 11  purpose           21525 non-null  object \n",
      "dtypes: float64(2), int64(5), object(5)\n",
      "memory usage: 2.0+ MB\n"
     ]
    }
   ],
   "source": [
    "data.info()"
   ]
  },
  {
   "cell_type": "markdown",
   "id": "1256bb23-53b1-4574-9898-a316eb64e022",
   "metadata": {},
   "source": [
    "## 2. Предобработка данных\n",
    "\n",
    "### 2.1. Удаление пропусков"
   ]
  },
  {
   "cell_type": "markdown",
   "id": "aaeb1608-15c1-4eea-b467-2f7f8ba46b17",
   "metadata": {},
   "source": [
    "Вывожу количество пропущенных значений для каждого столбца:"
   ]
  },
  {
   "cell_type": "code",
   "execution_count": 4,
   "id": "2363d068-8319-4b24-9862-6fc75b695e0e",
   "metadata": {},
   "outputs": [
    {
     "data": {
      "text/plain": [
       "days_employed       2174\n",
       "total_income        2174\n",
       "children               0\n",
       "dob_years              0\n",
       "education              0\n",
       "education_id           0\n",
       "family_status          0\n",
       "family_status_id       0\n",
       "gender                 0\n",
       "income_type            0\n",
       "debt                   0\n",
       "purpose                0\n",
       "dtype: int64"
      ]
     },
     "execution_count": 4,
     "metadata": {},
     "output_type": "execute_result"
    }
   ],
   "source": [
    "data.isna().sum().sort_values(ascending = False)"
   ]
  },
  {
   "cell_type": "markdown",
   "id": "50383116-ae34-4aa2-8647-7517671e3a70",
   "metadata": {},
   "source": [
    "В двух столбцах есть пропущенные значения. Заполню пропуски в столбце `total_income` медианным значением по каждому типу из столбца income_type."
   ]
  },
  {
   "cell_type": "code",
   "execution_count": 5,
   "id": "2b7f48bf-2174-4377-bd48-201f4e101f07",
   "metadata": {},
   "outputs": [],
   "source": [
    "for t in data['income_type'].unique():\n",
    "    data.loc[(data['income_type'] == t) & (data['total_income'].isna()), 'total_income'] = \\\n",
    "    data.loc[(data['income_type'] == t), 'total_income'].median()"
   ]
  },
  {
   "cell_type": "markdown",
   "id": "77950d50-7dae-477a-9821-921e9588f7ed",
   "metadata": {},
   "source": [
    "### 2.2. Обработка аномальных значений¶"
   ]
  },
  {
   "cell_type": "markdown",
   "id": "14c41f28-8104-4f85-af8e-e2e9822489ae",
   "metadata": {},
   "source": [
    "Обработаю значения в столбце `days_employed` - заменю все отрицательные значения положительными с помощью метода abs()."
   ]
  },
  {
   "cell_type": "code",
   "execution_count": 6,
   "id": "2e618b09-0afa-4d91-91bf-1d06b66538f9",
   "metadata": {},
   "outputs": [],
   "source": [
    "data['days_employed'] = data['days_employed'].abs()"
   ]
  },
  {
   "cell_type": "markdown",
   "id": "a8a99a13-098f-490c-ba77-b1d9409dcea5",
   "metadata": {},
   "source": [
    "Для каждого типа занятости выведу медианное значение трудового стажа `days_employed` в днях."
   ]
  },
  {
   "cell_type": "code",
   "execution_count": 7,
   "id": "638d4dc2-28af-449c-9402-35c0ac8d0404",
   "metadata": {},
   "outputs": [
    {
     "data": {
      "text/plain": [
       "income_type\n",
       "безработный        366413.652744\n",
       "пенсионер          365213.306266\n",
       "в декрете            3296.759962\n",
       "госслужащий          2689.368353\n",
       "сотрудник            1574.202821\n",
       "компаньон            1547.382223\n",
       "студент               578.751554\n",
       "предприниматель       520.848083\n",
       "Name: days_employed, dtype: float64"
      ]
     },
     "execution_count": 7,
     "metadata": {},
     "output_type": "execute_result"
    }
   ],
   "source": [
    "data.groupby('income_type')['days_employed'].agg('median').sort_values(ascending = False)"
   ]
  },
  {
   "cell_type": "markdown",
   "id": "bdf76eab-06c1-48ef-90f2-4470f1141ea8",
   "metadata": {},
   "source": [
    "У двух типов (безработные и пенсионеры) получатся аномально большие значения. Исправить такие значения сложно, поэтому оставляю их как есть."
   ]
  },
  {
   "cell_type": "markdown",
   "id": "a24ac358-9f7d-445b-95fb-28ad0c4373b2",
   "metadata": {},
   "source": [
    "Выведу перечень уникальных значений столбца `children`."
   ]
  },
  {
   "cell_type": "code",
   "execution_count": 8,
   "id": "64c8ef34-e2e3-415e-9830-1c132f20766c",
   "metadata": {},
   "outputs": [
    {
     "data": {
      "text/plain": [
       "array([ 1,  0,  3,  2, -1,  4, 20,  5])"
      ]
     },
     "execution_count": 8,
     "metadata": {},
     "output_type": "execute_result"
    }
   ],
   "source": [
    "data['children'].unique()"
   ]
  },
  {
   "cell_type": "markdown",
   "id": "ef0b77a1-85a5-4048-adef-6f37d1c533aa",
   "metadata": {},
   "source": [
    "В столбце `children` есть аномальные значения. Удалю строки, в которых встречаются такие аномальные значения."
   ]
  },
  {
   "cell_type": "code",
   "execution_count": 9,
   "id": "9d768227-f3e7-45e4-a3de-5565d2cfbff2",
   "metadata": {},
   "outputs": [],
   "source": [
    "data = data[(data['children'] != -1) & (data['children'] != 20)]"
   ]
  },
  {
   "cell_type": "markdown",
   "id": "989cc910-4ad1-44f2-9e2d-62c87a98ac43",
   "metadata": {},
   "source": [
    "Ещё раз выведу перечень уникальных значений столбца `children`, чтобы убедиться, что артефакты удалены."
   ]
  },
  {
   "cell_type": "code",
   "execution_count": 10,
   "id": "9ad46f2c-7b12-4d3e-94dd-be9307d32114",
   "metadata": {},
   "outputs": [
    {
     "data": {
      "text/plain": [
       "array([1, 0, 3, 2, 4, 5])"
      ]
     },
     "execution_count": 10,
     "metadata": {},
     "output_type": "execute_result"
    }
   ],
   "source": [
    "data['children'].unique()"
   ]
  },
  {
   "cell_type": "markdown",
   "id": "1941b945-8e44-4d2e-9be6-7b19c664b2c4",
   "metadata": {},
   "source": [
    "### 2.3. Удаление пропусков"
   ]
  },
  {
   "cell_type": "markdown",
   "id": "2692761a-9936-4a56-a1e8-a437d0aed289",
   "metadata": {},
   "source": [
    "Заполню пропуски в столбце `days_employed` медианными значениями по каждому типу занятости `income_type`"
   ]
  },
  {
   "cell_type": "code",
   "execution_count": 11,
   "id": "f508383b-612f-443e-9956-64e544cf4688",
   "metadata": {},
   "outputs": [],
   "source": [
    "for t in data['income_type'].unique():\n",
    "    data.loc[(data['income_type'] == t) & (data['days_employed'].isna()), 'days_employed'] = \\\n",
    "    data.loc[(data['income_type'] == t), 'days_employed'].median()"
   ]
  },
  {
   "cell_type": "markdown",
   "id": "9723276e-b408-4023-926b-a79ce31d0d1a",
   "metadata": {},
   "source": [
    "Проверю, что все пропуски заполнены."
   ]
  },
  {
   "cell_type": "code",
   "execution_count": 12,
   "id": "b23ec265-8689-430d-89f4-3a684fb4c58a",
   "metadata": {},
   "outputs": [
    {
     "data": {
      "text/plain": [
       "children            0\n",
       "days_employed       0\n",
       "dob_years           0\n",
       "education           0\n",
       "education_id        0\n",
       "family_status       0\n",
       "family_status_id    0\n",
       "gender              0\n",
       "income_type         0\n",
       "debt                0\n",
       "total_income        0\n",
       "purpose             0\n",
       "dtype: int64"
      ]
     },
     "execution_count": 12,
     "metadata": {},
     "output_type": "execute_result"
    }
   ],
   "source": [
    "data.isna().sum()"
   ]
  },
  {
   "cell_type": "markdown",
   "id": "1f0c6a83-c02f-4a15-bb2a-2370007faccb",
   "metadata": {},
   "source": [
    "### 2.4 Изменение типов данных"
   ]
  },
  {
   "cell_type": "markdown",
   "id": "0d2d1a59-7053-4c6b-b306-48ac03a2d2d1",
   "metadata": {},
   "source": [
    "Заменю вещественный тип данных в столбце `total_income` на целочисленный с помощью метода `astype()`"
   ]
  },
  {
   "cell_type": "code",
   "execution_count": 13,
   "id": "f4ea531e-ac38-48fa-8dd0-e983aabd8625",
   "metadata": {},
   "outputs": [],
   "source": [
    "data['total_income'] = data['total_income'].astype(int)"
   ]
  },
  {
   "cell_type": "markdown",
   "id": "cfce1145-6a64-4c10-aa67-cf98be381a27",
   "metadata": {},
   "source": [
    "### 2.5 Обработка дубликатов"
   ]
  },
  {
   "cell_type": "markdown",
   "id": "e713f071-50aa-4bcf-8b18-4edb535cedbe",
   "metadata": {},
   "source": [
    "Обработаю неявные дубликаты в столбце `education`. В этом столбце есть одни и те же значения, но записанные по-разному: с использованием заглавных и строчных букв. Приведу их к нижнему регистру."
   ]
  },
  {
   "cell_type": "code",
   "execution_count": 14,
   "id": "f0257a9d-bc96-49bc-b5f5-ada7fb4cd58a",
   "metadata": {},
   "outputs": [],
   "source": [
    "data['education'] = data['education'].str.lower()"
   ]
  },
  {
   "cell_type": "markdown",
   "id": "9bdad3e6-886e-49d9-848b-aac76e1335b9",
   "metadata": {},
   "source": [
    "Посмотрю количество строк-дубликатов в данных. Если такие строки присутствуют, удалю их."
   ]
  },
  {
   "cell_type": "code",
   "execution_count": 15,
   "id": "c286cd04-ab33-48de-840b-da0104c116ef",
   "metadata": {},
   "outputs": [
    {
     "data": {
      "text/plain": [
       "71"
      ]
     },
     "execution_count": 15,
     "metadata": {},
     "output_type": "execute_result"
    }
   ],
   "source": [
    "data.duplicated().sum()"
   ]
  },
  {
   "cell_type": "code",
   "execution_count": 16,
   "id": "1f854531-b6ae-4e20-8855-37fa14b0c28c",
   "metadata": {},
   "outputs": [],
   "source": [
    "data = data.drop_duplicates()"
   ]
  },
  {
   "cell_type": "markdown",
   "id": "1940ddef-7966-42f8-a411-e52b9650d2dd",
   "metadata": {},
   "source": [
    "### 2.6 Категоризация данных"
   ]
  },
  {
   "cell_type": "markdown",
   "id": "17373f3a-59a1-40a2-aafd-6dbcc46074cc",
   "metadata": {},
   "source": [
    "Создам следующие категории через функцию:\n",
    "\n",
    "- 0–30000 — `'E'`;\n",
    "- 30001–50000 — `'D'`;\n",
    "- 50001–200000 — `'C'`;\n",
    "- 200001–1000000 — `'B'`;\n",
    "- 1000001 и выше — `'A'`."
   ]
  },
  {
   "cell_type": "code",
   "execution_count": 17,
   "id": "775007b1-bf23-48cf-9f28-5ec9400cd466",
   "metadata": {},
   "outputs": [],
   "source": [
    "def categorize_income(income):\n",
    "    try:\n",
    "        if 0 <= income <= 30000:\n",
    "            return 'E'\n",
    "        elif 30001 <= income <= 50000:\n",
    "            return 'D'\n",
    "        elif 50001 <= income <= 200000:\n",
    "            return 'C'\n",
    "        elif 200001 <= income <= 1000000:\n",
    "            return 'B'\n",
    "        elif income >= 1000001:\n",
    "            return 'A'\n",
    "    except:\n",
    "        pass"
   ]
  },
  {
   "cell_type": "code",
   "execution_count": 18,
   "id": "e0426f2f-c7be-4992-9a7a-9d46df34ea14",
   "metadata": {},
   "outputs": [],
   "source": [
    "data['total_income_category'] = data['total_income'].apply(categorize_income)"
   ]
  },
  {
   "cell_type": "markdown",
   "id": "65dd0cda-099a-4f06-9706-4b7c006102f2",
   "metadata": {},
   "source": [
    "Посмотрю уникальные цели взятия кредита из столбца `purpose`."
   ]
  },
  {
   "cell_type": "code",
   "execution_count": 19,
   "id": "4bea2f44-b66e-4b86-ab4e-19c4d46de984",
   "metadata": {},
   "outputs": [
    {
     "data": {
      "text/plain": [
       "array(['покупка жилья', 'приобретение автомобиля',\n",
       "       'дополнительное образование', 'сыграть свадьбу',\n",
       "       'операции с жильем', 'образование', 'на проведение свадьбы',\n",
       "       'покупка жилья для семьи', 'покупка недвижимости',\n",
       "       'покупка коммерческой недвижимости', 'покупка жилой недвижимости',\n",
       "       'строительство собственной недвижимости', 'недвижимость',\n",
       "       'строительство недвижимости', 'на покупку подержанного автомобиля',\n",
       "       'на покупку своего автомобиля',\n",
       "       'операции с коммерческой недвижимостью',\n",
       "       'строительство жилой недвижимости', 'жилье',\n",
       "       'операции со своей недвижимостью', 'автомобили',\n",
       "       'заняться образованием', 'сделка с подержанным автомобилем',\n",
       "       'получение образования', 'автомобиль', 'свадьба',\n",
       "       'получение дополнительного образования', 'покупка своего жилья',\n",
       "       'операции с недвижимостью', 'получение высшего образования',\n",
       "       'свой автомобиль', 'сделка с автомобилем',\n",
       "       'профильное образование', 'высшее образование',\n",
       "       'покупка жилья для сдачи', 'на покупку автомобиля', 'ремонт жилью',\n",
       "       'заняться высшим образованием'], dtype=object)"
      ]
     },
     "execution_count": 19,
     "metadata": {},
     "output_type": "execute_result"
    }
   ],
   "source": [
    "data['purpose'].unique()"
   ]
  },
  {
   "cell_type": "markdown",
   "id": "a736f2cb-8827-413e-bb87-e5df92b24ff9",
   "metadata": {},
   "source": [
    "Создам функцию со следующими категориями:\n",
    "\n",
    "- `'операции с автомобилем'`,\n",
    "- `'операции с недвижимостью'`,\n",
    "- `'проведение свадьбы'`,\n",
    "- `'получение образования'`"
   ]
  },
  {
   "cell_type": "code",
   "execution_count": 20,
   "id": "85d09e34-0056-44a7-b1ea-08f581159195",
   "metadata": {},
   "outputs": [],
   "source": [
    "def categorize_purpose(row):\n",
    "    try:\n",
    "        if 'автом' in row:\n",
    "            return 'операции с автомобилем'\n",
    "        elif 'жил' in row or 'недвиж' in row:\n",
    "            return 'операции с недвижимостью'\n",
    "        elif 'свад' in row:\n",
    "            return 'проведение свадьбы'\n",
    "        elif 'образов' in row:\n",
    "            return 'получение образования'\n",
    "    except:\n",
    "        return 'нет категории'"
   ]
  },
  {
   "cell_type": "code",
   "execution_count": 21,
   "id": "c8c1e7e6-18d5-4bc2-a16d-b3de98a51e70",
   "metadata": {},
   "outputs": [],
   "source": [
    "data['purpose_category'] = data['purpose'].apply(categorize_purpose)"
   ]
  },
  {
   "cell_type": "markdown",
   "id": "55103e3c-655e-4f16-9ce3-0870e02bb73d",
   "metadata": {},
   "source": [
    "## 3. Исследование данных"
   ]
  },
  {
   "cell_type": "markdown",
   "id": "dbe70aa8-a83b-4396-8744-dfab61f8ef43",
   "metadata": {},
   "source": [
    "### 3.1 Есть ли зависимость между количеством детей и возвратом кредита в срок?"
   ]
  },
  {
   "cell_type": "code",
   "execution_count": 22,
   "id": "abf40de3-187d-4bf5-8748-f916ed699efb",
   "metadata": {},
   "outputs": [
    {
     "data": {
      "text/html": [
       "<div>\n",
       "<style scoped>\n",
       "    .dataframe tbody tr th:only-of-type {\n",
       "        vertical-align: middle;\n",
       "    }\n",
       "\n",
       "    .dataframe tbody tr th {\n",
       "        vertical-align: top;\n",
       "    }\n",
       "\n",
       "    .dataframe thead th {\n",
       "        text-align: right;\n",
       "    }\n",
       "</style>\n",
       "<table border=\"1\" class=\"dataframe\">\n",
       "  <thead>\n",
       "    <tr style=\"text-align: right;\">\n",
       "      <th></th>\n",
       "      <th>count</th>\n",
       "      <th>sum</th>\n",
       "      <th>mean</th>\n",
       "    </tr>\n",
       "    <tr>\n",
       "      <th>children</th>\n",
       "      <th></th>\n",
       "      <th></th>\n",
       "      <th></th>\n",
       "    </tr>\n",
       "  </thead>\n",
       "  <tbody>\n",
       "    <tr>\n",
       "      <th>0</th>\n",
       "      <td>14091</td>\n",
       "      <td>1063</td>\n",
       "      <td>0.075</td>\n",
       "    </tr>\n",
       "    <tr>\n",
       "      <th>1</th>\n",
       "      <td>4808</td>\n",
       "      <td>444</td>\n",
       "      <td>0.092</td>\n",
       "    </tr>\n",
       "    <tr>\n",
       "      <th>2</th>\n",
       "      <td>2052</td>\n",
       "      <td>194</td>\n",
       "      <td>0.095</td>\n",
       "    </tr>\n",
       "    <tr>\n",
       "      <th>3</th>\n",
       "      <td>330</td>\n",
       "      <td>27</td>\n",
       "      <td>0.082</td>\n",
       "    </tr>\n",
       "    <tr>\n",
       "      <th>4</th>\n",
       "      <td>41</td>\n",
       "      <td>4</td>\n",
       "      <td>0.098</td>\n",
       "    </tr>\n",
       "    <tr>\n",
       "      <th>5</th>\n",
       "      <td>9</td>\n",
       "      <td>0</td>\n",
       "      <td>0.000</td>\n",
       "    </tr>\n",
       "  </tbody>\n",
       "</table>\n",
       "</div>"
      ],
      "text/plain": [
       "          count   sum   mean\n",
       "children                    \n",
       "0         14091  1063  0.075\n",
       "1          4808   444  0.092\n",
       "2          2052   194  0.095\n",
       "3           330    27  0.082\n",
       "4            41     4  0.098\n",
       "5             9     0  0.000"
      ]
     },
     "execution_count": 22,
     "metadata": {},
     "output_type": "execute_result"
    }
   ],
   "source": [
    "data.groupby('children')['debt'].agg(['count', 'sum', 'mean']).round(3)"
   ]
  },
  {
   "cell_type": "markdown",
   "id": "899a6047-62b5-4d47-9073-ca89b97e42de",
   "metadata": {},
   "source": [
    "<div style=\"border:solid Chocolate 2px; padding: 20px\">\n",
    "\n",
    "**Вывод:** Из текущей таблицы мы видим, что семьи с 5-ю детьми брали кредиты, но при этом вернули их в срок, на текущий момент сложно сделать более подробные выводы по этой группе.\n",
    "\n",
    "Самое большое число кредитов наблюдается у семей без детей, однако доля кредитов, не погашенных в срок, меньше в сравнении с остальными группами. Таким образом, можно сказать, что семьи без детей чаще берут кредиты, но при этом являлись платежеспособными и реже остальных делали просрочки по оплате долга.\n",
    "\n",
    "Самые частые просрочки наблюдаются у семей с 1, 2-мя и 4-мя детьми, что позволяет предположить, что вероятность наличия долга увеличивается с ростом числа детей в семье, что говорит о наличии зависимости количества детей и просрочки долга. Однако, количество наблюдений у семей с 3-мя и 4-мя детьми невелико, что может повлият на общий вывод."
   ]
  },
  {
   "cell_type": "markdown",
   "id": "c99729b2-9ae4-403a-9539-07783049efa7",
   "metadata": {},
   "source": [
    "### 3.2 Есть ли зависимость между семейным положением и возвратом кредита в срок?"
   ]
  },
  {
   "cell_type": "code",
   "execution_count": 23,
   "id": "ed972a7f-910c-493c-a008-ad1b01945efa",
   "metadata": {},
   "outputs": [
    {
     "data": {
      "text/html": [
       "<div>\n",
       "<style scoped>\n",
       "    .dataframe tbody tr th:only-of-type {\n",
       "        vertical-align: middle;\n",
       "    }\n",
       "\n",
       "    .dataframe tbody tr th {\n",
       "        vertical-align: top;\n",
       "    }\n",
       "\n",
       "    .dataframe thead th {\n",
       "        text-align: right;\n",
       "    }\n",
       "</style>\n",
       "<table border=\"1\" class=\"dataframe\">\n",
       "  <thead>\n",
       "    <tr style=\"text-align: right;\">\n",
       "      <th></th>\n",
       "      <th>count</th>\n",
       "      <th>sum</th>\n",
       "      <th>mean</th>\n",
       "    </tr>\n",
       "    <tr>\n",
       "      <th>family_status</th>\n",
       "      <th></th>\n",
       "      <th></th>\n",
       "      <th></th>\n",
       "    </tr>\n",
       "  </thead>\n",
       "  <tbody>\n",
       "    <tr>\n",
       "      <th>Не женат / не замужем</th>\n",
       "      <td>2796</td>\n",
       "      <td>273</td>\n",
       "      <td>0.098</td>\n",
       "    </tr>\n",
       "    <tr>\n",
       "      <th>в разводе</th>\n",
       "      <td>1189</td>\n",
       "      <td>84</td>\n",
       "      <td>0.071</td>\n",
       "    </tr>\n",
       "    <tr>\n",
       "      <th>вдовец / вдова</th>\n",
       "      <td>951</td>\n",
       "      <td>63</td>\n",
       "      <td>0.066</td>\n",
       "    </tr>\n",
       "    <tr>\n",
       "      <th>гражданский брак</th>\n",
       "      <td>4134</td>\n",
       "      <td>385</td>\n",
       "      <td>0.093</td>\n",
       "    </tr>\n",
       "    <tr>\n",
       "      <th>женат / замужем</th>\n",
       "      <td>12261</td>\n",
       "      <td>927</td>\n",
       "      <td>0.076</td>\n",
       "    </tr>\n",
       "  </tbody>\n",
       "</table>\n",
       "</div>"
      ],
      "text/plain": [
       "                       count  sum   mean\n",
       "family_status                           \n",
       "Не женат / не замужем   2796  273  0.098\n",
       "в разводе               1189   84  0.071\n",
       "вдовец / вдова           951   63  0.066\n",
       "гражданский брак        4134  385  0.093\n",
       "женат / замужем        12261  927  0.076"
      ]
     },
     "execution_count": 23,
     "metadata": {},
     "output_type": "execute_result"
    }
   ],
   "source": [
    "data.groupby('family_status')['debt'].agg(['count', 'sum', 'mean']).round(3)"
   ]
  },
  {
   "cell_type": "markdown",
   "id": "c9190cad-2c8f-4698-a8ac-465dbb455e40",
   "metadata": {},
   "source": [
    "<div style=\"border:solid Chocolate 2px; padding: 20px\">\n",
    "\n",
    "**Вывод:** По результатам сводной таблицы можем наблюдать, что граждане в категории \"вдовец/вдова\" и \"в разводе\" меньше всего берут кредиты, а если берут, то отдают с минимальной в сравнении с другими категориями просрочкой.\n",
    "\n",
    "Больше всего берут кредитов семьи, зарегистрированные в браке, однако процент просрочки срока возврата кредита меньше,чем у людей, живущих в гражданском браке либо в статусе \"не женат/не замужем\".\n",
    "\n",
    "Самый высокий процент по задолженности составляет у тех, кто находится в гражданском браке, либо \"не женат/не замужем\". В этих группах задолженность более 9%.\n",
    "\n",
    "По результатам таблицы можно сказать, что зависимость между семейным положением и возвратом кредита в срок существует, так как мы видим, что граждане, состоящие в неформальных отношениях (без пары или в гражданском браке)ассоциируются с более высоким уровнем нестабильности, нежеланием взять на себя долгосрочные обязательства, и, соответственно, самой высокой долей просрочки по платежам. Люди, состоящие в официальном браке, или бывшие в нем (\"в разводе\", \"вдовец/вдова\") имеют более высокий уровень стабильности."
   ]
  },
  {
   "cell_type": "markdown",
   "id": "e3ce48c2-f813-4f7a-8fee-7b275aa6c3f1",
   "metadata": {},
   "source": [
    "### 3.3 Есть ли зависимость между уровнем дохода и возвратом кредита в срок?"
   ]
  },
  {
   "cell_type": "code",
   "execution_count": 24,
   "id": "e2b67749-c857-43c4-97e8-51c0e875273b",
   "metadata": {},
   "outputs": [
    {
     "data": {
      "text/html": [
       "<div>\n",
       "<style scoped>\n",
       "    .dataframe tbody tr th:only-of-type {\n",
       "        vertical-align: middle;\n",
       "    }\n",
       "\n",
       "    .dataframe tbody tr th {\n",
       "        vertical-align: top;\n",
       "    }\n",
       "\n",
       "    .dataframe thead th {\n",
       "        text-align: right;\n",
       "    }\n",
       "</style>\n",
       "<table border=\"1\" class=\"dataframe\">\n",
       "  <thead>\n",
       "    <tr style=\"text-align: right;\">\n",
       "      <th></th>\n",
       "      <th>count</th>\n",
       "      <th>sum</th>\n",
       "      <th>mean</th>\n",
       "    </tr>\n",
       "    <tr>\n",
       "      <th>total_income_category</th>\n",
       "      <th></th>\n",
       "      <th></th>\n",
       "      <th></th>\n",
       "    </tr>\n",
       "  </thead>\n",
       "  <tbody>\n",
       "    <tr>\n",
       "      <th>A</th>\n",
       "      <td>25</td>\n",
       "      <td>2</td>\n",
       "      <td>0.080</td>\n",
       "    </tr>\n",
       "    <tr>\n",
       "      <th>B</th>\n",
       "      <td>5014</td>\n",
       "      <td>354</td>\n",
       "      <td>0.071</td>\n",
       "    </tr>\n",
       "    <tr>\n",
       "      <th>C</th>\n",
       "      <td>15921</td>\n",
       "      <td>1353</td>\n",
       "      <td>0.085</td>\n",
       "    </tr>\n",
       "    <tr>\n",
       "      <th>D</th>\n",
       "      <td>349</td>\n",
       "      <td>21</td>\n",
       "      <td>0.060</td>\n",
       "    </tr>\n",
       "    <tr>\n",
       "      <th>E</th>\n",
       "      <td>22</td>\n",
       "      <td>2</td>\n",
       "      <td>0.091</td>\n",
       "    </tr>\n",
       "  </tbody>\n",
       "</table>\n",
       "</div>"
      ],
      "text/plain": [
       "                       count   sum   mean\n",
       "total_income_category                    \n",
       "A                         25     2  0.080\n",
       "B                       5014   354  0.071\n",
       "C                      15921  1353  0.085\n",
       "D                        349    21  0.060\n",
       "E                         22     2  0.091"
      ]
     },
     "execution_count": 24,
     "metadata": {},
     "output_type": "execute_result"
    }
   ],
   "source": [
    "data.groupby('total_income_category')['debt'].agg(['count', 'sum', 'mean']).round(3)"
   ]
  },
  {
   "cell_type": "markdown",
   "id": "88777d1b-da58-450b-ae95-b4143ddcfb19",
   "metadata": {},
   "source": [
    "<div style=\"border:solid blue 2px; padding: 20px\">\n",
    "\n",
    "**Категории:**\n",
    "- **A** - 1000001 и выше,\n",
    "- **B** - 200001–1000000,\n",
    "- **C** - 50001–200000,\n",
    "- **D** - 30001–50000,\n",
    "- **E** - 0–30000."
   ]
  },
  {
   "cell_type": "markdown",
   "id": "3a4ae723-bdda-4ffa-8301-1c0ba32773ad",
   "metadata": {},
   "source": [
    "<div style=\"border:solid Chocolate 2px; padding: 20px\">\n",
    "\n",
    "**Вывод:** Из таблицы мы видим, что самые малочисленные категории составляют граждане с доходом до 50000 рублей и от 1000000 рублей. Исходя из маленького числа наблюдений, сложно дать конкретные факты, но можно сделать предположения.\n",
    "\n",
    "Самый высокий процент задолженности у категории с доходом до 30000 рублей -9.1% и это неудивительно, потому что эту категрию граждан можно отнести к людям с низкими доходами. Есть предположение, что их текущего дохода может не хватать даже на то, чтобы покрыть базовые потребности. Наблюдается нестабильное финансовое положение.  \n",
    "\n",
    "Также, что удивительно, высокий процент по задолженности наблюдается у малочисленной группы граждан с очень высокими доходами - 8.0%. Можно предположить, что это связано с инвестиционными целями - богатые люди берут кредиты для вложения ивестиций, чтобы еще больше увеличить свой капитал, однако, не всегда вовремя делают погашения.\n",
    "\n",
    "Самый низкий риск невозврата кредита в срок наблюдается у граждан с доходом ниже среднего - от 30001 до 50000 рублей, что может указывать на их большую финансовую дисциплину. По данным «СберИндекс» медианная зарплата в России составляла 52 269 рублей (лето 2023). Можно сказать, что данная категория нацелена на планирование расходов, что позволяет им покрывать базовые потребности и вовремя выплачивать долг по кредиту.\n",
    "\n",
    "Граждане со средними доходами в диапазоне от 50001 до 200000 рублей составляют большинство и имеют чуть выше среднего уровень риска невозврата кредитов - 8.5%. Это может говорить о том, что в этой категории граждане уже могут не только покрыть свои базовые потребности, но и совершать дополнительные покупки и брать больше кредитов.\n",
    "\n",
    "Граждане с высоким доходом (от 200001 до 1000000 рублей) имеют относительно низкий уровень просрочек по кредитам, что подчеркивает их финансовую устойчивость\n",
    "\n",
    "\n",
    "*Наблюдается связь между уровнем дохода и возвратом кредита в срок*. Клиенты с очень низкими и очень высокими доходами имеют более высокую долю просроченных кредитов по сравнению с гражданами со средним и высоким уровня дохода."
   ]
  },
  {
   "cell_type": "markdown",
   "id": "81bd16c2-6578-4d2b-b71f-cd28a141961d",
   "metadata": {},
   "source": [
    "### 3.4 Как разные цели кредита влияют на его возврат в срок?"
   ]
  },
  {
   "cell_type": "code",
   "execution_count": 25,
   "id": "90392e74-0ac3-47cd-9bcc-6cdcf5d57498",
   "metadata": {},
   "outputs": [
    {
     "data": {
      "text/html": [
       "<div>\n",
       "<style scoped>\n",
       "    .dataframe tbody tr th:only-of-type {\n",
       "        vertical-align: middle;\n",
       "    }\n",
       "\n",
       "    .dataframe tbody tr th {\n",
       "        vertical-align: top;\n",
       "    }\n",
       "\n",
       "    .dataframe thead th {\n",
       "        text-align: right;\n",
       "    }\n",
       "</style>\n",
       "<table border=\"1\" class=\"dataframe\">\n",
       "  <thead>\n",
       "    <tr style=\"text-align: right;\">\n",
       "      <th></th>\n",
       "      <th>count</th>\n",
       "      <th>sum</th>\n",
       "      <th>mean</th>\n",
       "    </tr>\n",
       "    <tr>\n",
       "      <th>purpose_category</th>\n",
       "      <th></th>\n",
       "      <th></th>\n",
       "      <th></th>\n",
       "    </tr>\n",
       "  </thead>\n",
       "  <tbody>\n",
       "    <tr>\n",
       "      <th>операции с автомобилем</th>\n",
       "      <td>4279</td>\n",
       "      <td>400</td>\n",
       "      <td>0.093</td>\n",
       "    </tr>\n",
       "    <tr>\n",
       "      <th>операции с недвижимостью</th>\n",
       "      <td>10751</td>\n",
       "      <td>780</td>\n",
       "      <td>0.073</td>\n",
       "    </tr>\n",
       "    <tr>\n",
       "      <th>получение образования</th>\n",
       "      <td>3988</td>\n",
       "      <td>369</td>\n",
       "      <td>0.093</td>\n",
       "    </tr>\n",
       "    <tr>\n",
       "      <th>проведение свадьбы</th>\n",
       "      <td>2313</td>\n",
       "      <td>183</td>\n",
       "      <td>0.079</td>\n",
       "    </tr>\n",
       "  </tbody>\n",
       "</table>\n",
       "</div>"
      ],
      "text/plain": [
       "                          count  sum   mean\n",
       "purpose_category                           \n",
       "операции с автомобилем     4279  400  0.093\n",
       "операции с недвижимостью  10751  780  0.073\n",
       "получение образования      3988  369  0.093\n",
       "проведение свадьбы         2313  183  0.079"
      ]
     },
     "execution_count": 25,
     "metadata": {},
     "output_type": "execute_result"
    }
   ],
   "source": [
    "data.groupby('purpose_category')['debt'].agg(['count', 'sum', 'mean']).round(3)"
   ]
  },
  {
   "cell_type": "markdown",
   "id": "18c7af90-1f28-4f78-ad1f-0478887fec51",
   "metadata": {},
   "source": [
    "<div style=\"border:solid Chocolate 2px; padding: 20px\">\n",
    "\n",
    "**Вывод:** Из текущей таблицы мы видим, что операции с автомобилем и получение образования имеют наибольший процент невозврата кредита в срок (9.3%). Эти цели могут быть связаны с высокими затратами на обслуживание автомобиля и образовательные услуги, а также с потенциальной нестабильностью доходов граждан.\n",
    "\n",
    "Проведение свадьбы как категории цели составляет 7.9% невозврата долна в срок. Это может быть связано с тем, что сейчас увеличивается бюджет на проведение свадьбы, так как появились дополнительные расходы в виде кейтеринга, фотографа/видеографа, ведущего, дизайна помещения, фотосессий, повышение расходов на работу с подрядчиками (аренда помещения, организаторы свадьбы и т.д.). Однако, % невозврата меньше, чем у операций с автомобилями, что может быть связано с тем, что свадьба - запланированное событие и расходы могут быть запланированы.\n",
    "\n",
    "Операции с недвижимостью показывают наименьший процент просрочки - 7.3%. Инвестиции в недвижимость часто рассматриваются как более надежные и долгосрочные, а также могут способствовать более ответственному подходу к финансовым обязательствам. Также, если не платить за кредитную недвижимость, в которой живет гражданин, ее могут забрать, так как до выплаты кредита недвижимость принадлежит банку, поэтому граждане внимательнее могут относится к такого рода операциям. \n",
    "\n",
    "В заключении моэно сказать, что *вид цели кредита влияет на вероятность его возврата в срок*. Кредиты, взятые на операции с недвижимостью, являются наиболее надежными в плане своевременного погашения по сравнению с кредитами на автомобили и образование."
   ]
  },
  {
   "cell_type": "markdown",
   "id": "77abcd51-e83d-4923-b5a5-5a4f2394cacc",
   "metadata": {},
   "source": [
    "## 4.Общий вывод"
   ]
  },
  {
   "cell_type": "markdown",
   "id": "ede74bae-03f6-48f0-8314-a28d6a397751",
   "metadata": {},
   "source": [
    "Основной целью проекта было **выявить, существуют ли зависимости, влияющие на факт погашения кредита в срок** (например, семейное положение, количество детей и т.д).\n",
    "\n",
    "На основе проведенной работы можно сформулировать следующие выводы:\n",
    "\n",
    "**1) Предобработка данных** \n",
    "\n",
    "*Пропущенные значения.*\n",
    "\n",
    "В рассматриваемых данных были найдены пропущенные значения в 2-х столбцах: общий трудовой стаж в днях и ежемесячный доход. Эти пропуски могут быть в результате ошибки при сборе данных, например, из-за человческого фактора, намеренного или ненамеренного сокрытия информации, также из-за технической ошибки или поврежденного файла.\n",
    "Для решения данной проблемы было использовано замещение пропущенных значений медианными, так как в данных наблюдался большой разброс в месячном доходе от 18000 рублей до 2000000 рублей. Данное решение помогло минимизировать влияние на общую статистику.\n",
    "\n",
    "*Некорректные типы данных.*\n",
    "\n",
    "Данные в некоторых столбцах были представлены в некорректных форматах, что могло вызвать проблемы при анализе.\n",
    "Для решения данной проблемы данные были приведены к корректному формату: числовые значения, имеющие тип строковых, были преобразованы в числа.\n",
    "\n",
    "*Дубликаты.*\n",
    "\n",
    "В данных были обнаружены дубликаты, которые могут исказить результаты анализа. Дубликаты были удалены, чтобы обеспечить точность анализа.\n",
    "\n",
    "*Большое количество однотипных данных, написанных по-разному.*\n",
    "\n",
    "В данных были замечены одинаковые по логике, но разные по написанию типы данных, например, 'покупка жилья' и 'жилье', что затрудняло анализ.\n",
    "Для решения проблемы данные по уровню дохода и целям кредита были категоризированы, чтобы в дальнейшем было легче найти зависимости.\n",
    "\n",
    "**2) Цели проекта** \n",
    "\n",
    "В ходе работы были выявлены следующие зависимости:\n",
    "\n",
    "*Зависимость между количеством детей и возвратом кредита в срок.*\n",
    "\n",
    "Анализ показал, что существует определенная зависимость между количеством детей и возвратом кредита в срок, а именно, что самые частые просрочки наблюдаются у семей с 1, 2-мя и 4-мя детьми - 9.2%, 9.5% и 9.8% соответственно. Это позволяет предположить, что вероятность наличия долга увеличивается с ростом числа детей в семье, однако это зависимость не прямая, так как семьи с 5-ю детьми не имеют просрочек, а семьи с 3-мя детьми имеют меньший процент просрочек - 8.2%.\n",
    "\n",
    "*Зависимость между семейным положением и возвратом кредита в срок.*\n",
    "\n",
    "Результат анализа показывает зависимость между семейным положением и возвратом кредита в срок, так как граждане, состоящие в неформальных отношениях (без пары или в гражданском браке)ассоциируются с более высоким уровнем нестабильности, нежеланием взять на себя долгосрочные обязательства, и, соответственно, самой высокой долей просрочки по платежам - 9.8% и 9.3% соответственно. Люди, состоящие в официальном браке, или бывшие в нем (\"в разводе\", \"вдовец/вдова\") имеют более высокий уровень стабильности - 7.6%, 7.1%, 6.6%.\n",
    "\n",
    "*Зависимость между уровнем дохода и возвратом кредита в срок.*\n",
    "\n",
    "Анализ показал, что существует определенная зависимость между уровнем дохода и вероятностью возврата кредита в срок.\n",
    "\n",
    "Самые высокорискованные группы - граждане с низким доходом до 30000 рублей (9.1%) и граждане со средним доходом в диапазоне от 50001 до 200000 рублей (8.5%). Есть предположение, что категориям с низким уровнем дохода может не хватать их текущего дохода даже на покрытие базовых потребностей, а категории со средним уровнем дохода могут не только покрыть свои базовые потребности, но и совершать дополнительные покупки и иметь несколько кредитов.\n",
    "\n",
    "Самый низкий риск невозврата кредита в срок наблюдается у граждан с доходом ниже среднего - от 30001 до 50000 рублей, что может указывать на их большую финансовую дисциплину.\n",
    "\n",
    "*Зависимость между целью кредита и возвратом кредита в срок.*\n",
    "\n",
    "Было выявлено, что цель кредита также влияет на вероятность его своевременного возврата. Кредиты, взятые на операции с недвижимостью, имели наименьший процент просрочек (7.3%), в то время как кредиты на приобретение автомобиля и образование демонстрировали более высокие уровни просрочек - 9.3%.\n",
    "\n",
    "Исходя из проведенной работы можно сказать, что финансовое поведение граждан зависит от нескольких факторов: наличие и количество детей, уровень дохода и цель кредита. На текущий момент можно сделать предположение, что наибольшая вероятность просрочки наблюдается у граждан, состоящих в официальном браке, имеющих от 1 до 3-х детей с доходом от 50000 до 200000, которые покупают в кредит машины или оплачивают образование детям.\n",
    "\n",
    "**3) Рекомендации для заказчика** \n",
    "\n",
    "На основе анализа можно предложить следующие рекомендации:\n",
    "\n",
    "*Усилить проверку граждан с уровнем дохода от 50001 до 200000 рублей.*\n",
    "\n",
    "Учитывая наивысший процент просрочек среди граждан с доходами от 50001 до 200000 рублей, рекомендуется проводить более тщательную проверку финансового состояния и кредитной истории таких клиентов.\n",
    "\n",
    "*Обратить внимание на цели кредита.*\n",
    "\n",
    "При оценке заявок на кредит нужно учитывать цель кредитования. Кредиты на покупку недвижимости имеют меньший риск просрочки, что делает их более предпочтительными для выдачи.\n",
    "\n",
    "*Создать персонализированные программы для каждой категориии граждан.*\n",
    "\n",
    "Создание специальных кредитных продуктов, адаптированных под потребности и финансовые возможности различных категорий граждан, может помочь снизить риск просрочек."
   ]
  },
  {
   "cell_type": "code",
   "execution_count": null,
   "id": "383a34ec-ca56-4416-b5ee-25ecebb1c070",
   "metadata": {},
   "outputs": [],
   "source": []
  }
 ],
 "metadata": {
  "kernelspec": {
   "display_name": "Python 3 (ipykernel)",
   "language": "python",
   "name": "python3"
  },
  "language_info": {
   "codemirror_mode": {
    "name": "ipython",
    "version": 3
   },
   "file_extension": ".py",
   "mimetype": "text/x-python",
   "name": "python",
   "nbconvert_exporter": "python",
   "pygments_lexer": "ipython3",
   "version": "3.11.5"
  }
 },
 "nbformat": 4,
 "nbformat_minor": 5
}
